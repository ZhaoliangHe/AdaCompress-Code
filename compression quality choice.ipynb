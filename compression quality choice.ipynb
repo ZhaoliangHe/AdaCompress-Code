{
 "cells": [
  {
   "cell_type": "code",
   "execution_count": 14,
   "metadata": {},
   "outputs": [],
   "source": [
    "import matplotlib.pyplot as plt\n",
    "import pickle as pk\n",
    "import numpy as np\n",
    "from collections import defaultdict\n",
    "from res_manager import ResultManager"
   ]
  },
  {
   "cell_type": "code",
   "execution_count": 2,
   "metadata": {},
   "outputs": [],
   "source": [
    "rm = ResultManager('evaluation_results')"
   ]
  },
  {
   "cell_type": "code",
   "execution_count": 3,
   "metadata": {},
   "outputs": [
    {
     "name": "stdout",
     "output_type": "stream",
     "text": [
      "+---------+----------------------------------+--------------+-------------+----------+\n",
      "| Data ID |               Name               |    Topic     |     Type    | Versions |\n",
      "+---------+----------------------------------+--------------+-------------+----------+\n",
      "|    1    |   Robustness_JPEG_InceptionV3    |   Dataset    | defaultdict |    1     |\n",
      "|    2    |   Performance_JPEG_InceptionV3   | Performance  | defaultdict |    1     |\n",
      "|    3    |    Banchmark_JPEG_InceptionV3    |  Banchmark   | defaultdict |    1     |\n",
      "|    4    |     Banchmark_JPEG_ResNet50      |  Banchmark   | defaultdict |    2     |\n",
      "|    5    |     Robustness_JPEG_ResNet50     |   Dataset    | defaultdict |    1     |\n",
      "|    6    |  train_evaluate_baidu_imagenet   |  AgentTrain  | defaultdict |    1     |\n",
      "|    7    |     evaluate_baidu_imagenet      |  AgentTrain  | defaultdict |    1     |\n",
      "|    8    |      train_facepp_imagenet       |  AgentTrain  | defaultdict |    1     |\n",
      "|    9    |     evaluate_facepp_imagenet     |  AgentTrain  | defaultdict |    1     |\n",
      "|    10   |     evaluate_baidu_places365     |  AgentTrain  | defaultdict |    1     |\n",
      "|    11   |      train_baidu_places365       |  AgentTrain  | defaultdict |    1     |\n",
      "|    12   |   running_retrain_running_log    | AgentRetrain | defaultdict |    1     |\n",
      "|    13   | retrain_running_log_DNIM_dataset | AgentRetrain | defaultdict |    1     |\n",
      "|    14   |      train_amazon_imagenet       |  AgentTrain  | defaultdict |    1     |\n",
      "|    15   |       eval_amazon_imagenet       |  AgentTrain  | defaultdict |    1     |\n",
      "|    16   |      blind_agent_test_q=21       |  AgentTrain  | defaultdict |    1     |\n",
      "|    17   |    lowQ_baidu_train_imagenet     |  AgentTrain  | defaultdict |    1     |\n",
      "|    18   |     lowQ_baidu_eval_imagenet     |  AgentTrain  | defaultdict |    1     |\n",
      "|    20   |      train_baidu_DNIM_night      |  AgentTrain  | defaultdict |    1     |\n",
      "|    21   |      DNIM_agent_on_imagenet      | AgentRetrain | defaultdict |    3     |\n",
      "|    22   |      imagenet_agent_on_DNIM      | AgentRetrain | defaultdict |    1     |\n",
      "|    23   |  DNIM_agent_on_imagenet_fixq25   | AgentRetrain | defaultdict |    1     |\n",
      "|    24   |       train_baidu_imagenet       |  AgentTrain  | defaultdict |    1     |\n",
      "|    25   |      testset_imagenet_baidu      | AgentRetrain | defaultdict |    1     |\n",
      "+---------+----------------------------------+--------------+-------------+----------+\n"
     ]
    }
   ],
   "source": [
    "rm.print_meta_info()"
   ]
  },
  {
   "cell_type": "code",
   "execution_count": 4,
   "metadata": {},
   "outputs": [],
   "source": [
    "baidu_evallog = rm.load(7)\n",
    "facepp_evallog = rm.load(9)\n",
    "amazon_evallog = rm.load(15)"
   ]
  },
  {
   "cell_type": "code",
   "execution_count": 15,
   "metadata": {},
   "outputs": [
    {
     "data": {
      "text/plain": [
       "1200"
      ]
     },
     "execution_count": 15,
     "metadata": {},
     "output_type": "execute_result"
    }
   ],
   "source": [
    "len(baidu_evallog['action'])"
   ]
  },
  {
   "cell_type": "code",
   "execution_count": 23,
   "metadata": {},
   "outputs": [],
   "source": [
    "# save log\n",
    "with open('choice_cloud/baidu_actions.defaultdict', 'wb') as f:\n",
    "    pk.dump(baidu_evallog,f)\n",
    "with open('choice_cloud/facepp_actions.defaultdict', 'wb') as f:\n",
    "    pk.dump(facepp_evallog,f)\n",
    "with open('choice_cloud/amazon_actions.defaultdict', 'wb') as f:\n",
    "    pk.dump(amazon_evallog,f)"
   ]
  },
  {
   "cell_type": "code",
   "execution_count": 24,
   "metadata": {},
   "outputs": [],
   "source": [
    "# open log\n",
    "with open('choice_cloud/baidu_actions.defaultdict', 'rb') as f:\n",
    "    baidu_log = pk.load(f)"
   ]
  },
  {
   "cell_type": "code",
   "execution_count": 46,
   "metadata": {},
   "outputs": [
    {
     "name": "stdout",
     "output_type": "stream",
     "text": [
      "0\n",
      "0\n"
     ]
    },
    {
     "data": {
      "text/plain": [
       "0"
      ]
     },
     "execution_count": 46,
     "metadata": {},
     "output_type": "execute_result"
    }
   ],
   "source": [
    "print(baidu_evallog['action'].count(95))\n",
    "print(facepp_evallog['action'].count(95))\n",
    "amazon_evallog['action'].count(95)"
   ]
  },
  {
   "cell_type": "code",
   "execution_count": 98,
   "metadata": {},
   "outputs": [
    {
     "name": "stdout",
     "output_type": "stream",
     "text": [
      "baidu maen  31.05 std  19.02360375954041\n",
      "facep maen  23.483333333333334 std  16.223431271535077\n",
      "amazon maen  28.341666666666665 std  18.209427884721936\n"
     ]
    }
   ],
   "source": [
    "print(\"baidu maen \",np.mean(baidu_evallog['action']),\"std \",np.std(baidu_evallog['action']))\n",
    "print(\"facep maen \",np.mean(facepp_evallog['action']),\"std \",np.std(facepp_evallog['action']))\n",
    "print(\"amazon maen \",np.mean(amazon_evallog['action']),\"std \",np.std(amazon_evallog['action']))"
   ]
  },
  {
   "cell_type": "code",
   "execution_count": 113,
   "metadata": {},
   "outputs": [],
   "source": [
    "def change(baidu_evallog):\n",
    "    FLIR_actions = baidu_evallog['action']\n",
    "    # FLIR_actions = facepp_evallog['action']\n",
    "    # FLIR_actions = amazon_evallog['action']\n",
    "    FLIR_actions1 = FLIR_actions\n",
    "    FLIR_actions = np.array(FLIR_actions)\n",
    "    FLIR_actions[FLIR_actions==85] = 95\n",
    "    FLIR_actions[FLIR_actions==75] = 85\n",
    "    FLIR_actions[FLIR_actions==65] = 75\n",
    "    FLIR_actions[FLIR_actions==55] = 65\n",
    "    FLIR_actions[FLIR_actions==45] = 55\n",
    "    print(\"FLIR avg\",np.mean(FLIR_actions))\n",
    "    print(\"FLIR std\",np.std(FLIR_actions))"
   ]
  },
  {
   "cell_type": "code",
   "execution_count": 114,
   "metadata": {},
   "outputs": [
    {
     "name": "stdout",
     "output_type": "stream",
     "text": [
      "FLIR avg 33.46666666666667\n",
      "FLIR std 22.777523033805842\n",
      "FLIR avg 24.758333333333333\n",
      "FLIR std 19.192661719753435\n",
      "FLIR avg 31.608333333333334\n",
      "FLIR std 22.46656620897422\n"
     ]
    }
   ],
   "source": [
    "change(baidu_evallog)\n",
    "change(facepp_evallog)\n",
    "change(amazon_evallog)"
   ]
  },
  {
   "cell_type": "code",
   "execution_count": 109,
   "metadata": {},
   "outputs": [
    {
     "data": {
      "text/plain": [
       "array([False, False, False, ..., False, False, False])"
      ]
     },
     "execution_count": 109,
     "metadata": {},
     "output_type": "execute_result"
    }
   ],
   "source": [
    "FLIR_actions==85"
   ]
  },
  {
   "cell_type": "code",
   "execution_count": 110,
   "metadata": {},
   "outputs": [
    {
     "data": {
      "text/plain": [
       "numpy.ndarray"
      ]
     },
     "execution_count": 110,
     "metadata": {},
     "output_type": "execute_result"
    }
   ],
   "source": [
    "type(FLIR_actions)"
   ]
  },
  {
   "cell_type": "code",
   "execution_count": 112,
   "metadata": {},
   "outputs": [
    {
     "data": {
      "text/plain": [
       "[47, 395, 260, 213, 0, 81, 52, 90, 43, 19]"
      ]
     },
     "execution_count": 112,
     "metadata": {},
     "output_type": "execute_result"
    }
   ],
   "source": [
    "[list(FLIR_actions).count(i) for i in np.arange(5, 105, 10)]"
   ]
  },
  {
   "cell_type": "code",
   "execution_count": 45,
   "metadata": {},
   "outputs": [
    {
     "data": {
      "text/plain": [
       "[48, 395, 260, 213, 81, 51, 90, 43, 19, 0]"
      ]
     },
     "execution_count": 45,
     "metadata": {},
     "output_type": "execute_result"
    }
   ],
   "source": [
    "[baidu_evallog['action'].count(i) for i in np.arange(5, 105, 10)]"
   ]
  },
  {
   "cell_type": "code",
   "execution_count": 5,
   "metadata": {},
   "outputs": [
    {
     "data": {
      "image/png": "[encoded data removed]",
      "text/plain": [
       "<Figure size 432x288 with 1 Axes>"
      ]
     },
     "metadata": {
      "needs_background": "light"
     },
     "output_type": "display_data"
    }
   ],
   "source": [
    "baidu_actions = plt.hist(baidu_evallog['action'], bins=10)\n",
    "facepp_actions = plt.hist(facepp_evallog['action'], bins=10)\n",
    "amazon_actions = plt.hist(amazon_evallog['action'], bins=10)"
   ]
  },
  {
   "cell_type": "code",
   "execution_count": 39,
   "metadata": {},
   "outputs": [
    {
     "data": {
      "text/plain": [
       "(array([ 48., 395., 260., 213.,   0.,  81.,  51.,  90.,  43.,  19.]),\n",
       " array([ 5., 13., 21., 29., 37., 45., 53., 61., 69., 77., 85.]),\n",
       " <a list of 10 Patch objects>)"
      ]
     },
     "execution_count": 39,
     "metadata": {},
     "output_type": "execute_result"
    }
   ],
   "source": [
    "baidu_actions "
   ]
  },
  {
   "cell_type": "code",
   "execution_count": 7,
   "metadata": {},
   "outputs": [
    {
     "data": {
      "image/png": "[encoded data removed]",
      "text/plain": [
       "<Figure size 432x288 with 1 Axes>"
      ]
     },
     "metadata": {
      "needs_background": "light"
     },
     "output_type": "display_data"
    }
   ],
   "source": [
    "plt.bar([i for i in np.arange(5, 105, 10)], np.array(baidu_actions[0]) / 1000, width=3, label='Baidu Vision', color='lightsteelblue')\n",
    "plt.bar([i - 3 for i in np.arange(5, 105, 10)], np.array(facepp_actions[0]) / 1000, width=3, label='Face++', color='thistle')\n",
    "plt.bar([i + 3 for i in np.arange(5, 105, 10)], np.array(amazon_actions[0]) / 1000, width=3, label='Amazon Rekognition', color='darksalmon')\n",
    "plt.xlabel(\"Compression level (Q for JPEG)\")\n",
    "plt.ylabel(r\"Counts ($\\times10^3$)\")\n",
    "plt.xticks([i for i in np.arange(5, 105, 10)])\n",
    "plt.legend()\n",
    "\n",
    "# plt.subplots_adjust(top=1.0,\n",
    "#                     bottom=0.235,\n",
    "#                     left=0.115,\n",
    "#                     right=0.995,\n",
    "#                     hspace=0.2,\n",
    "#                     wspace=0.2)\n",
    "plt.subplots_adjust(top=0.75,\n",
    "                    bottom=0.235,\n",
    "                    left=0.115,\n",
    "                    right=0.995,\n",
    "                    hspace=0.2,\n",
    "                    wspace=0.2)"
   ]
  },
  {
   "cell_type": "code",
   "execution_count": 50,
   "metadata": {},
   "outputs": [
    {
     "data": {
      "image/png": "[encoded data removed]",
      "text/plain": [
       "<Figure size 432x288 with 1 Axes>"
      ]
     },
     "metadata": {
      "needs_background": "light"
     },
     "output_type": "display_data"
    }
   ],
   "source": [
    "plt.bar([i for i in np.arange(5, 105, 10)], np.array(baidu_actions[0]) / 1000, width=3, label='Baidu Vision', color='lightsteelblue')\n",
    "#plt.bar([i - 3 for i in np.arange(5, 105, 10)], np.array(facepp_actions[0]) / 1000, width=3, label='Face++', color='thistle')\n",
    "#plt.bar([i + 3 for i in np.arange(5, 105, 10)], np.array(amazon_actions[0]) / 1000, width=3, label='Amazon Rekognition', color='darksalmon')\n",
    "plt.xlabel(\"Compression level (Q for JPEG)\")\n",
    "plt.ylabel(r\"Counts ($\\times10^3$)\")\n",
    "plt.xticks([i for i in np.arange(5, 105, 10)])\n",
    "plt.legend()\n",
    "\n",
    "# plt.subplots_adjust(top=1.0,\n",
    "#                     bottom=0.235,\n",
    "#                     left=0.115,\n",
    "#                     right=0.995,\n",
    "#                     hspace=0.2,\n",
    "#                     wspace=0.2)\n",
    "plt.subplots_adjust(top=0.75,\n",
    "                    bottom=0.235,\n",
    "                    left=0.115,\n",
    "                    right=0.995,\n",
    "                    hspace=0.2,\n",
    "                    wspace=0.2)"
   ]
  },
  {
   "cell_type": "code",
   "execution_count": 89,
   "metadata": {},
   "outputs": [
    {
     "data": {
      "image/png": "[encoded data removed]",
      "text/plain": [
       "<Figure size 432x288 with 1 Axes>"
      ]
     },
     "metadata": {
      "needs_background": "light"
     },
     "output_type": "display_data"
    }
   ],
   "source": [
    "plt.bar([i for i in np.arange(5, 105, 10)], np.array(baidu_actions[0]) / 1000, width=6, label='Baidu Vision', color='lightsteelblue')\n",
    "#plt.bar([i - 3 for i in np.arange(5, 105, 10)], np.array(facepp_actions[0]) / 1000, width=3, label='Face++', color='thistle')\n",
    "#plt.bar([i + 3 for i in np.arange(5, 105, 10)], np.array(amazon_actions[0]) / 1000, width=3, label='Amazon Rekognition', color='darksalmon')\n",
    "plt.xlabel(\"Compression level (Q for JPEG)\")\n",
    "plt.ylabel(r\"Counts ($\\times10^3$)\")\n",
    "plt.xticks([i for i in np.arange(5, 105, 10)])\n",
    "plt.yticks([i for i in np.arange(0.2, 1 ,0.2)])\n",
    "plt.grid()\n",
    "plt.legend()\n",
    "\n",
    "plt.subplots_adjust(left=0, bottom=0, right=0.5, top=0.8, hspace=0.2, wspace=0.3)\n",
    "plt.savefig(\"AdaCompress-master/src/figure_result/ImageNet_Baidu_choices1.pdf\",bbox_inches = 'tight')"
   ]
  },
  {
   "cell_type": "code",
   "execution_count": 88,
   "metadata": {},
   "outputs": [
    {
     "data": {
      "image/png": "[encoded data removed]",
      "text/plain": [
       "<Figure size 432x288 with 1 Axes>"
      ]
     },
     "metadata": {
      "needs_background": "light"
     },
     "output_type": "display_data"
    }
   ],
   "source": [
    "#plt.bar([i for i in np.arange(5, 105, 10)], np.array(baidu_actions[0]) / 1000, width=4, label='Baidu Vision', color='lightsteelblue')\n",
    "plt.bar([i for i in np.arange(5, 105, 10)], np.array(facepp_actions[0]) / 1000, width=6, label='Face++', color='thistle')\n",
    "#plt.bar([i + 3 for i in np.arange(5, 105, 10)], np.array(amazon_actions[0]) / 1000, width=3, label='Amazon Rekognition', color='darksalmon')\n",
    "plt.xlabel(\"Compression level (Q for JPEG)\")\n",
    "plt.ylabel(r\"Counts ($\\times10^3$)\")\n",
    "plt.xticks([i for i in np.arange(5, 105, 10)])\n",
    "plt.yticks([i for i in np.arange(0.2, 1 ,0.2)])\n",
    "plt.grid()\n",
    "plt.legend()\n",
    "\n",
    "plt.subplots_adjust(left=0, bottom=0, right=0.5, top=0.8, hspace=0.2, wspace=0.3)\n",
    "plt.savefig(\"AdaCompress-master/src/figure_result/ImageNet_Facepp_choices1.pdf\",bbox_inches = 'tight')"
   ]
  },
  {
   "cell_type": "code",
   "execution_count": 87,
   "metadata": {},
   "outputs": [
    {
     "data": {
      "image/png": "[encoded data removed]",
      "text/plain": [
       "<Figure size 432x288 with 1 Axes>"
      ]
     },
     "metadata": {
      "needs_background": "light"
     },
     "output_type": "display_data"
    }
   ],
   "source": [
    "#plt.bar([i for i in np.arange(5, 105, 10)], np.array(baidu_actions[0]) / 1000, width=4, label='Baidu Vision', color='lightsteelblue')\n",
    "#plt.bar([i - 3 for i in np.arange(5, 105, 10)], np.array(facepp_actions[0]) / 1000, width=3, label='Face++', color='thistle')\n",
    "plt.bar([i for i in np.arange(5, 105, 10)], np.array(amazon_actions[0]) / 1000, width=6, label='Amazon Rekognition', color='LightCoral')\n",
    "plt.xlabel(\"Compression level (Q for JPEG)\")\n",
    "plt.ylabel(r\"Counts ($\\times10^3$)\")\n",
    "plt.xticks([i for i in np.arange(5, 105, 10)])\n",
    "plt.yticks([i for i in np.arange(0.2, 1 ,0.2)])\n",
    "plt.grid()\n",
    "plt.legend()\n",
    "\n",
    "plt.subplots_adjust(left=0, bottom=0, right=0.5, top=0.8, hspace=0.2, wspace=0.3)\n",
    "plt.savefig(\"AdaCompress-master/src/figure_result/ImageNet_Amazon_choices1.pdf\",bbox_inches = 'tight')"
   ]
  },
  {
   "cell_type": "code",
   "execution_count": 48,
   "metadata": {},
   "outputs": [
    {
     "data": {
      "image/png": "[encoded data removed]",
      "text/plain": [
       "<Figure size 432x288 with 1 Axes>"
      ]
     },
     "metadata": {
      "needs_background": "light"
     },
     "output_type": "display_data"
    }
   ],
   "source": [
    "#plt.bar([i for i in np.arange(5, 105, 10)], np.array(baidu_actions[0]) / 1000, width=3, label='Baidu Vision', color='lightsteelblue')\n",
    "plt.bar([i - 3 for i in np.arange(5, 105, 10)], np.array(facepp_actions[0]) / 1000, width=3, label='Face++', color='thistle')\n",
    "#plt.bar([i + 3 for i in np.arange(5, 105, 10)], np.array(amazon_actions[0]) / 1000, width=3, label='Amazon Rekognition', color='darksalmon')\n",
    "plt.xlabel(\"Compression level (Q for JPEG)\")\n",
    "plt.ylabel(r\"Counts ($\\times10^3$)\")\n",
    "plt.xticks([i for i in np.arange(5, 105, 10)])\n",
    "plt.legend()\n",
    "\n",
    "# plt.subplots_adjust(top=1.0,\n",
    "#                     bottom=0.235,\n",
    "#                     left=0.115,\n",
    "#                     right=0.995,\n",
    "#                     hspace=0.2,\n",
    "#                     wspace=0.2)\n",
    "plt.subplots_adjust(top=0.75,\n",
    "                    bottom=0.235,\n",
    "                    left=0.115,\n",
    "                    right=0.995,\n",
    "                    hspace=0.2,\n",
    "                    wspace=0.2)"
   ]
  },
  {
   "cell_type": "code",
   "execution_count": 49,
   "metadata": {},
   "outputs": [
    {
     "data": {
      "image/png": "[encoded data removed]",
      "text/plain": [
       "<Figure size 432x288 with 1 Axes>"
      ]
     },
     "metadata": {
      "needs_background": "light"
     },
     "output_type": "display_data"
    }
   ],
   "source": [
    "#plt.bar([i for i in np.arange(5, 105, 10)], np.array(baidu_actions[0]) / 1000, width=3, label='Baidu Vision', color='lightsteelblue')\n",
    "#plt.bar([i - 3 for i in np.arange(5, 105, 10)], np.array(facepp_actions[0]) / 1000, width=3, label='Face++', color='thistle')\n",
    "plt.bar([i + 3 for i in np.arange(5, 105, 10)], np.array(amazon_actions[0]) / 1000, width=3, label='Amazon Rekognition', color='darksalmon')\n",
    "plt.xlabel(\"Compression level (Q for JPEG)\")\n",
    "plt.ylabel(r\"Counts ($\\times10^3$)\")\n",
    "plt.xticks([i for i in np.arange(5, 105, 10)])\n",
    "plt.legend()\n",
    "\n",
    "# plt.subplots_adjust(top=1.0,\n",
    "#                     bottom=0.235,\n",
    "#                     left=0.115,\n",
    "#                     right=0.995,\n",
    "#                     hspace=0.2,\n",
    "#                     wspace=0.2)\n",
    "plt.subplots_adjust(top=0.75,\n",
    "                    bottom=0.235,\n",
    "                    left=0.115,\n",
    "                    right=0.995,\n",
    "                    hspace=0.2,\n",
    "                    wspace=0.2)"
   ]
  }
 ],
 "metadata": {
  "kernelspec": {
   "display_name": "deep",
   "language": "python",
   "name": "deep"
  },
  "language_info": {
   "codemirror_mode": {
    "name": "ipython",
    "version": 3
   },
   "file_extension": ".py",
   "mimetype": "text/x-python",
   "name": "python",
   "nbconvert_exporter": "python",
   "pygments_lexer": "ipython3",
   "version": "3.6.9"
  }
 },
 "nbformat": 4,
 "nbformat_minor": 2
}
