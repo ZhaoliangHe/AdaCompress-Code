{
 "cells": [
  {
   "cell_type": "markdown",
   "metadata": {},
   "source": [
    "### compression quality choice"
   ]
  },
  {
   "cell_type": "code",
   "execution_count": 57,
   "metadata": {},
   "outputs": [],
   "source": [
    "import matplotlib.pyplot as plt\n",
    "import pickle as pk\n",
    "import numpy as np\n",
    "from collections import defaultdict\n",
    "from res_manager import ResultManager\n",
    "from fitter import Fitter"
   ]
  },
  {
   "cell_type": "code",
   "execution_count": 58,
   "metadata": {},
   "outputs": [],
   "source": [
    "rm = ResultManager('evaluation_results')"
   ]
  },
  {
   "cell_type": "code",
   "execution_count": 9,
   "metadata": {
    "collapsed": true
   },
   "outputs": [
    {
     "name": "stdout",
     "output_type": "stream",
     "text": [
      "+---------+------------------------------------------+--------------+-------------+----------+\n",
      "| Data ID |                   Name                   |    Topic     |     Type    | Versions |\n",
      "+---------+------------------------------------------+--------------+-------------+----------+\n",
      "|    1    |            eval_face_imagenet            |  AgentTrain  | defaultdict |    1     |\n",
      "|    2    |          DNIM_agent_on_imagenet          | AgentRetrain | defaultdict |    1     |\n",
      "|    3    |            DNIM_agent_initial            | AgentRetrain | defaultdict |    1     |\n",
      "|    4    |            DNIM_agent_retrain            | AgentRetrain | defaultdict |    1     |\n",
      "|    5    |         DNIM_agent_retrain_baidu         | AgentRetrain | defaultdict |    1     |\n",
      "|    6    |         DNIM_agent_initial_baidu         | AgentRetrain | defaultdict |    1     |\n",
      "|    7    |   baidu_initial_DNIM_retrain_imagenet    | AgentRetrain | defaultdict |    1     |\n",
      "|    8    |  baidu_inference_DNIM_retrain_imagenet   | AgentRetrain | defaultdict |    1     |\n",
      "|    9    |   baidu_imagenet_model_inference_DNIM    | AgentRetrain | defaultdict |    1     |\n",
      "|    10   | baidu_imagenet_model_inference_DNIM_code | AgentRetrain | defaultdict |    1     |\n",
      "|    11   |           baidu_all_DNIM_model           | AgentRetrain | defaultdict |    1     |\n",
      "|    12   |          baidu_all_DNIM_model1           | AgentRetrain | defaultdict |    1     |\n",
      "|    13   |      baidu_all_DNIM_model_inference      | AgentRetrain | defaultdict |    1     |\n",
      "|    14   |       baidu_DNIM_two_imagenet_DNIM       | AgentRetrain | defaultdict |    1     |\n",
      "|    15   |      baidu_DNIM_two_imagenet_DNIM1       | AgentRetrain | defaultdict |    1     |\n",
      "|    16   |      baidu_DNIM_two_imagenet_DNIM2       | AgentRetrain | defaultdict |    1     |\n",
      "|    17   |    baidu_DNIM_two_imagenet_load_DNIM     | AgentRetrain | defaultdict |    1     |\n",
      "|    18   |    baidu_DNIM_two_imagenet_load_DNIM1    | AgentRetrain | defaultdict |    1     |\n",
      "|    19   |       baidu_FLIR_two_imagenet_FLIR       | AgentRetrain | defaultdict |    1     |\n",
      "|    20   |      baidu_FLIR_two_imagenet_FLIR2       | AgentRetrain | defaultdict |    1     |\n",
      "|    21   |      baidu_FLIR_two_imagenet_FLIR3       | AgentRetrain | defaultdict |    1     |\n",
      "|    22   |         mechanism_infer_imagenet         | AgentRetrain | defaultdict |    1     |\n",
      "|    23   |           mechanism_infer_DNIM           | AgentRetrain | defaultdict |    1     |\n",
      "|    24   |           mechanism_infer_FLIR           | AgentRetrain | defaultdict |    1     |\n",
      "|    25   |       mechanism_train_2k_imagenet        | AgentRetrain | defaultdict |    1     |\n",
      "|    26   |         mechanism_train_2k_FLIR          | AgentRetrain | defaultdict |    1     |\n",
      "|    27   |               mechanism_1                | AgentRetrain | defaultdict |    1     |\n",
      "|    28   |              mechanism_1_1               | AgentRetrain | defaultdict |    1     |\n",
      "|    29   |               mechanism_2                | AgentRetrain | defaultdict |    1     |\n",
      "+---------+------------------------------------------+--------------+-------------+----------+\n"
     ]
    }
   ],
   "source": [
    "rm.print_meta_info()"
   ]
  },
  {
   "cell_type": "code",
   "execution_count": 59,
   "metadata": {},
   "outputs": [],
   "source": [
    "running_log = rm.load(28)"
   ]
  },
  {
   "cell_type": "code",
   "execution_count": 4,
   "metadata": {
    "collapsed": true
   },
   "outputs": [
    {
     "data": {
      "text/plain": [
       "dict_keys(['status', 'action', 'accuracy', 'agent_accuracy', 'ref_size', 'comp_size', 'upload_size', 'size_reward', 'reward', 'image_path', 'step_count', 'recent_reward', 'recent_accuracy', 'explor_rate', 'agent_epsilon'])"
      ]
     },
     "execution_count": 4,
     "metadata": {},
     "output_type": "execute_result"
    }
   ],
   "source": [
    "running_log.keys()"
   ]
  },
  {
   "cell_type": "code",
   "execution_count": 11,
   "metadata": {},
   "outputs": [],
   "source": [
    "with open('choice_dataset.defaultdict', 'wb') as f:\n",
    "    pk.dump(running_log,f)"
   ]
  },
  {
   "cell_type": "code",
   "execution_count": 60,
   "metadata": {},
   "outputs": [],
   "source": [
    "FLIR_actions = running_log['action'][:1400]\n",
    "imagenet_actions = running_log['action'][3600:5000]"
   ]
  },
  {
   "cell_type": "code",
   "execution_count": 7,
   "metadata": {},
   "outputs": [
    {
     "data": {
      "text/plain": [
       "[21, 120, 335, 138, 277, 216, 98, 179, 15, 1]"
      ]
     },
     "execution_count": 7,
     "metadata": {},
     "output_type": "execute_result"
    }
   ],
   "source": [
    "[imagenet_actions.count(i) for i in np.arange(5, 105, 10)]"
   ]
  },
  {
   "cell_type": "code",
   "execution_count": 8,
   "metadata": {},
   "outputs": [
    {
     "data": {
      "text/plain": [
       "[101, 283, 229, 153, 490, 15, 129, 0, 0, 0]"
      ]
     },
     "execution_count": 8,
     "metadata": {},
     "output_type": "execute_result"
    }
   ],
   "source": [
    "[FLIR_actions.count(i) for i in np.arange(5, 105, 10)]"
   ]
  },
  {
   "cell_type": "code",
   "execution_count": 74,
   "metadata": {},
   "outputs": [
    {
     "data": {
      "text/plain": [
       "[101, 283, 0, 229, 0, 153, 490, 0, 15, 129]"
      ]
     },
     "execution_count": 74,
     "metadata": {},
     "output_type": "execute_result"
    }
   ],
   "source": [
    "[FLIR_actions.count(i) for i in np.arange(5, 105, 10)]"
   ]
  },
  {
   "cell_type": "code",
   "execution_count": 46,
   "metadata": {},
   "outputs": [
    {
     "data": {
      "text/plain": [
       "array([101., 283.,   0., 229.,   0., 153., 490.,   0.,  15., 129.])"
      ]
     },
     "execution_count": 46,
     "metadata": {},
     "output_type": "execute_result"
    }
   ],
   "source": [
    "FLIR_hist[0]"
   ]
  },
  {
   "cell_type": "code",
   "execution_count": 70,
   "metadata": {},
   "outputs": [],
   "source": [
    "FLIR_actions = np.array(running_log['action'][:1400])\n",
    "imagenet_actions = np.array(running_log['action'][3600:5000])"
   ]
  },
  {
   "cell_type": "code",
   "execution_count": 71,
   "metadata": {},
   "outputs": [],
   "source": [
    "FLIR_actions1 = FLIR_actions\n",
    "FLIR_actions[FLIR_actions==65] = 95\n",
    "FLIR_actions[FLIR_actions==55] = 85\n",
    "FLIR_actions[FLIR_actions==45] = 65\n",
    "FLIR_actions[FLIR_actions==35] = 55\n",
    "FLIR_actions[FLIR_actions==25] = 35"
   ]
  },
  {
   "cell_type": "code",
   "execution_count": 73,
   "metadata": {
    "collapsed": true
   },
   "outputs": [
    {
     "data": {
      "text/plain": [
       "[15,\n",
       " 15,\n",
       " 95,\n",
       " 15,\n",
       " 55,\n",
       " 35,\n",
       " 65,\n",
       " 95,\n",
       " 15,\n",
       " 55,\n",
       " 35,\n",
       " 15,\n",
       " 65,\n",
       " 65,\n",
       " 15,\n",
       " 5,\n",
       " 65,\n",
       " 35,\n",
       " 35,\n",
       " 65,\n",
       " 65,\n",
       " 5,\n",
       " 65,\n",
       " 95,\n",
       " 55,\n",
       " 65,\n",
       " 35,\n",
       " 65,\n",
       " 55,\n",
       " 65,\n",
       " 35,\n",
       " 5,\n",
       " 55,\n",
       " 35,\n",
       " 15,\n",
       " 65,\n",
       " 65,\n",
       " 15,\n",
       " 95,\n",
       " 15,\n",
       " 65,\n",
       " 35,\n",
       " 55,\n",
       " 65,\n",
       " 65,\n",
       " 65,\n",
       " 15,\n",
       " 95,\n",
       " 65,\n",
       " 5,\n",
       " 65,\n",
       " 65,\n",
       " 15,\n",
       " 15,\n",
       " 35,\n",
       " 95,\n",
       " 15,\n",
       " 65,\n",
       " 95,\n",
       " 35,\n",
       " 5,\n",
       " 65,\n",
       " 65,\n",
       " 65,\n",
       " 35,\n",
       " 65,\n",
       " 55,\n",
       " 65,\n",
       " 15,\n",
       " 15,\n",
       " 65,\n",
       " 15,\n",
       " 65,\n",
       " 15,\n",
       " 65,\n",
       " 15,\n",
       " 65,\n",
       " 55,\n",
       " 35,\n",
       " 5,\n",
       " 65,\n",
       " 35,\n",
       " 55,\n",
       " 65,\n",
       " 55,\n",
       " 85,\n",
       " 65,\n",
       " 35,\n",
       " 65,\n",
       " 55,\n",
       " 65,\n",
       " 65,\n",
       " 65,\n",
       " 5,\n",
       " 15,\n",
       " 55,\n",
       " 55,\n",
       " 65,\n",
       " 35,\n",
       " 35,\n",
       " 65,\n",
       " 15,\n",
       " 55,\n",
       " 65,\n",
       " 55,\n",
       " 65,\n",
       " 65,\n",
       " 15,\n",
       " 65,\n",
       " 15,\n",
       " 65,\n",
       " 15,\n",
       " 15,\n",
       " 15,\n",
       " 65,\n",
       " 65,\n",
       " 55,\n",
       " 65,\n",
       " 55,\n",
       " 65,\n",
       " 65,\n",
       " 65,\n",
       " 35,\n",
       " 35,\n",
       " 95,\n",
       " 65,\n",
       " 15,\n",
       " 65,\n",
       " 65,\n",
       " 95,\n",
       " 55,\n",
       " 65,\n",
       " 95,\n",
       " 15,\n",
       " 5,\n",
       " 65,\n",
       " 65,\n",
       " 15,\n",
       " 65,\n",
       " 55,\n",
       " 65,\n",
       " 65,\n",
       " 55,\n",
       " 65,\n",
       " 65,\n",
       " 65,\n",
       " 65,\n",
       " 65,\n",
       " 5,\n",
       " 85,\n",
       " 65,\n",
       " 5,\n",
       " 55,\n",
       " 65,\n",
       " 5,\n",
       " 35,\n",
       " 55,\n",
       " 65,\n",
       " 5,\n",
       " 15,\n",
       " 65,\n",
       " 65,\n",
       " 95,\n",
       " 65,\n",
       " 55,\n",
       " 65,\n",
       " 35,\n",
       " 65,\n",
       " 65,\n",
       " 85,\n",
       " 5,\n",
       " 35,\n",
       " 35,\n",
       " 15,\n",
       " 85,\n",
       " 15,\n",
       " 65,\n",
       " 85,\n",
       " 35,\n",
       " 35,\n",
       " 95,\n",
       " 65,\n",
       " 65,\n",
       " 65,\n",
       " 55,\n",
       " 55,\n",
       " 35,\n",
       " 65,\n",
       " 65,\n",
       " 55,\n",
       " 5,\n",
       " 15,\n",
       " 65,\n",
       " 15,\n",
       " 35,\n",
       " 35,\n",
       " 35,\n",
       " 65,\n",
       " 15,\n",
       " 35,\n",
       " 65,\n",
       " 15,\n",
       " 95,\n",
       " 65,\n",
       " 15,\n",
       " 65,\n",
       " 15,\n",
       " 65,\n",
       " 95,\n",
       " 95,\n",
       " 65,\n",
       " 15,\n",
       " 15,\n",
       " 65,\n",
       " 95,\n",
       " 5,\n",
       " 65,\n",
       " 65,\n",
       " 15,\n",
       " 65,\n",
       " 15,\n",
       " 95,\n",
       " 65,\n",
       " 95,\n",
       " 15,\n",
       " 15,\n",
       " 15,\n",
       " 65,\n",
       " 15,\n",
       " 15,\n",
       " 65,\n",
       " 35,\n",
       " 55,\n",
       " 35,\n",
       " 95,\n",
       " 65,\n",
       " 65,\n",
       " 95,\n",
       " 15,\n",
       " 35,\n",
       " 15,\n",
       " 65,\n",
       " 15,\n",
       " 65,\n",
       " 55,\n",
       " 15,\n",
       " 35,\n",
       " 65,\n",
       " 35,\n",
       " 35,\n",
       " 95,\n",
       " 35,\n",
       " 65,\n",
       " 65,\n",
       " 35,\n",
       " 35,\n",
       " 65,\n",
       " 35,\n",
       " 65,\n",
       " 15,\n",
       " 55,\n",
       " 65,\n",
       " 15,\n",
       " 65,\n",
       " 65,\n",
       " 55,\n",
       " 15,\n",
       " 55,\n",
       " 55,\n",
       " 35,\n",
       " 15,\n",
       " 15,\n",
       " 55,\n",
       " 15,\n",
       " 55,\n",
       " 95,\n",
       " 55,\n",
       " 65,\n",
       " 95,\n",
       " 15,\n",
       " 15,\n",
       " 65,\n",
       " 5,\n",
       " 65,\n",
       " 5,\n",
       " 55,\n",
       " 65,\n",
       " 95,\n",
       " 15,\n",
       " 55,\n",
       " 65,\n",
       " 95,\n",
       " 65,\n",
       " 35,\n",
       " 15,\n",
       " 65,\n",
       " 35,\n",
       " 35,\n",
       " 35,\n",
       " 15,\n",
       " 65,\n",
       " 15,\n",
       " 35,\n",
       " 15,\n",
       " 5,\n",
       " 35,\n",
       " 35,\n",
       " 35,\n",
       " 65,\n",
       " 65,\n",
       " 65,\n",
       " 35,\n",
       " 15,\n",
       " 35,\n",
       " 65,\n",
       " 65,\n",
       " 65,\n",
       " 65,\n",
       " 65,\n",
       " 65,\n",
       " 5,\n",
       " 55,\n",
       " 55,\n",
       " 65,\n",
       " 35,\n",
       " 5,\n",
       " 65,\n",
       " 15,\n",
       " 65,\n",
       " 95,\n",
       " 65,\n",
       " 35,\n",
       " 55,\n",
       " 15,\n",
       " 15,\n",
       " 55,\n",
       " 35,\n",
       " 15,\n",
       " 15,\n",
       " 65,\n",
       " 95,\n",
       " 65,\n",
       " 35,\n",
       " 65,\n",
       " 65,\n",
       " 35,\n",
       " 65,\n",
       " 35,\n",
       " 15,\n",
       " 55,\n",
       " 55,\n",
       " 65,\n",
       " 15,\n",
       " 65,\n",
       " 5,\n",
       " 15,\n",
       " 55,\n",
       " 35,\n",
       " 65,\n",
       " 15,\n",
       " 15,\n",
       " 65,\n",
       " 15,\n",
       " 65,\n",
       " 35,\n",
       " 95,\n",
       " 5,\n",
       " 15,\n",
       " 65,\n",
       " 15,\n",
       " 65,\n",
       " 65,\n",
       " 15,\n",
       " 15,\n",
       " 5,\n",
       " 65,\n",
       " 35,\n",
       " 55,\n",
       " 15,\n",
       " 55,\n",
       " 95,\n",
       " 95,\n",
       " 65,\n",
       " 65,\n",
       " 55,\n",
       " 65,\n",
       " 65,\n",
       " 5,\n",
       " 65,\n",
       " 15,\n",
       " 65,\n",
       " 65,\n",
       " 65,\n",
       " 5,\n",
       " 65,\n",
       " 65,\n",
       " 35,\n",
       " 95,\n",
       " 65,\n",
       " 15,\n",
       " 65,\n",
       " 15,\n",
       " 5,\n",
       " 35,\n",
       " 65,\n",
       " 65,\n",
       " 15,\n",
       " 35,\n",
       " 55,\n",
       " 95,\n",
       " 55,\n",
       " 15,\n",
       " 15,\n",
       " 35,\n",
       " 15,\n",
       " 65,\n",
       " 35,\n",
       " 5,\n",
       " 95,\n",
       " 95,\n",
       " 5,\n",
       " 35,\n",
       " 95,\n",
       " 55,\n",
       " 65,\n",
       " 95,\n",
       " 55,\n",
       " 65,\n",
       " 65,\n",
       " 55,\n",
       " 65,\n",
       " 65,\n",
       " 65,\n",
       " 65,\n",
       " 35,\n",
       " 65,\n",
       " 55,\n",
       " 65,\n",
       " 15,\n",
       " 65,\n",
       " 15,\n",
       " 55,\n",
       " 35,\n",
       " 55,\n",
       " 65,\n",
       " 35,\n",
       " 55,\n",
       " 55,\n",
       " 65,\n",
       " 5,\n",
       " 65,\n",
       " 65,\n",
       " 15,\n",
       " 15,\n",
       " 65,\n",
       " 95,\n",
       " 5,\n",
       " 65,\n",
       " 15,\n",
       " 65,\n",
       " 5,\n",
       " 15,\n",
       " 15,\n",
       " 15,\n",
       " 15,\n",
       " 65,\n",
       " 35,\n",
       " 15,\n",
       " 55,\n",
       " 5,\n",
       " 55,\n",
       " 65,\n",
       " 55,\n",
       " 65,\n",
       " 5,\n",
       " 15,\n",
       " 55,\n",
       " 15,\n",
       " 65,\n",
       " 15,\n",
       " 55,\n",
       " 35,\n",
       " 65,\n",
       " 35,\n",
       " 65,\n",
       " 65,\n",
       " 65,\n",
       " 15,\n",
       " 55,\n",
       " 15,\n",
       " 35,\n",
       " 55,\n",
       " 95,\n",
       " 65,\n",
       " 35,\n",
       " 5,\n",
       " 55,\n",
       " 65,\n",
       " 65,\n",
       " 15,\n",
       " 15,\n",
       " 65,\n",
       " 55,\n",
       " 35,\n",
       " 65,\n",
       " 65,\n",
       " 15,\n",
       " 65,\n",
       " 15,\n",
       " 15,\n",
       " 15,\n",
       " 35,\n",
       " 65,\n",
       " 65,\n",
       " 65,\n",
       " 15,\n",
       " 5,\n",
       " 15,\n",
       " 15,\n",
       " 35,\n",
       " 55,\n",
       " 65,\n",
       " 65,\n",
       " 5,\n",
       " 35,\n",
       " 65,\n",
       " 15,\n",
       " 65,\n",
       " 65,\n",
       " 5,\n",
       " 35,\n",
       " 15,\n",
       " 5,\n",
       " 85,\n",
       " 55,\n",
       " 65,\n",
       " 65,\n",
       " 35,\n",
       " 65,\n",
       " 95,\n",
       " 95,\n",
       " 65,\n",
       " 95,\n",
       " 65,\n",
       " 65,\n",
       " 15,\n",
       " 35,\n",
       " 65,\n",
       " 95,\n",
       " 5,\n",
       " 35,\n",
       " 15,\n",
       " 15,\n",
       " 65,\n",
       " 95,\n",
       " 35,\n",
       " 35,\n",
       " 65,\n",
       " 65,\n",
       " 95,\n",
       " 15,\n",
       " 35,\n",
       " 5,\n",
       " 65,\n",
       " 35,\n",
       " 65,\n",
       " 65,\n",
       " 95,\n",
       " 65,\n",
       " 95,\n",
       " 15,\n",
       " 55,\n",
       " 65,\n",
       " 15,\n",
       " 15,\n",
       " 85,\n",
       " 5,\n",
       " 5,\n",
       " 95,\n",
       " 5,\n",
       " 15,\n",
       " 35,\n",
       " 65,\n",
       " 35,\n",
       " 55,\n",
       " 65,\n",
       " 95,\n",
       " 15,\n",
       " 55,\n",
       " 65,\n",
       " 15,\n",
       " 15,\n",
       " 55,\n",
       " 55,\n",
       " 35,\n",
       " 65,\n",
       " 35,\n",
       " 65,\n",
       " 65,\n",
       " 65,\n",
       " 65,\n",
       " 5,\n",
       " 65,\n",
       " 35,\n",
       " 65,\n",
       " 95,\n",
       " 65,\n",
       " 65,\n",
       " 35,\n",
       " 35,\n",
       " 15,\n",
       " 15,\n",
       " 55,\n",
       " 5,\n",
       " 55,\n",
       " 65,\n",
       " 5,\n",
       " 15,\n",
       " 35,\n",
       " 95,\n",
       " 35,\n",
       " 95,\n",
       " 95,\n",
       " 35,\n",
       " 15,\n",
       " 35,\n",
       " 65,\n",
       " 65,\n",
       " 55,\n",
       " 15,\n",
       " 15,\n",
       " 95,\n",
       " 55,\n",
       " 65,\n",
       " 65,\n",
       " 55,\n",
       " 85,\n",
       " 55,\n",
       " 95,\n",
       " 55,\n",
       " 65,\n",
       " 65,\n",
       " 35,\n",
       " 15,\n",
       " 35,\n",
       " 65,\n",
       " 65,\n",
       " 65,\n",
       " 55,\n",
       " 95,\n",
       " 65,\n",
       " 95,\n",
       " 35,\n",
       " 65,\n",
       " 5,\n",
       " 55,\n",
       " 15,\n",
       " 15,\n",
       " 95,\n",
       " 35,\n",
       " 15,\n",
       " 65,\n",
       " 55,\n",
       " 15,\n",
       " 55,\n",
       " 95,\n",
       " 15,\n",
       " 65,\n",
       " 35,\n",
       " 65,\n",
       " 65,\n",
       " 35,\n",
       " 95,\n",
       " 65,\n",
       " 65,\n",
       " 65,\n",
       " 55,\n",
       " 55,\n",
       " 35,\n",
       " 5,\n",
       " 95,\n",
       " 15,\n",
       " 65,\n",
       " 15,\n",
       " 65,\n",
       " 35,\n",
       " 65,\n",
       " 95,\n",
       " 65,\n",
       " 35,\n",
       " 65,\n",
       " 15,\n",
       " 5,\n",
       " 15,\n",
       " 55,\n",
       " 15,\n",
       " 95,\n",
       " 65,\n",
       " 65,\n",
       " 15,\n",
       " 35,\n",
       " 65,\n",
       " 95,\n",
       " 15,\n",
       " 15,\n",
       " 65,\n",
       " 15,\n",
       " 15,\n",
       " 35,\n",
       " 65,\n",
       " 15,\n",
       " 15,\n",
       " 65,\n",
       " 35,\n",
       " 5,\n",
       " 65,\n",
       " 35,\n",
       " 65,\n",
       " 5,\n",
       " 95,\n",
       " 85,\n",
       " 35,\n",
       " 65,\n",
       " 35,\n",
       " 65,\n",
       " 65,\n",
       " 65,\n",
       " 65,\n",
       " 55,\n",
       " 55,\n",
       " 15,\n",
       " 65,\n",
       " 35,\n",
       " 35,\n",
       " 15,\n",
       " 95,\n",
       " 15,\n",
       " 15,\n",
       " 65,\n",
       " 65,\n",
       " 65,\n",
       " 65,\n",
       " 95,\n",
       " 5,\n",
       " 65,\n",
       " 85,\n",
       " 65,\n",
       " 65,\n",
       " 35,\n",
       " 65,\n",
       " 35,\n",
       " 35,\n",
       " 35,\n",
       " 55,\n",
       " 15,\n",
       " 15,\n",
       " 95,\n",
       " 65,\n",
       " 65,\n",
       " 95,\n",
       " 15,\n",
       " 35,\n",
       " 35,\n",
       " 15,\n",
       " 65,\n",
       " 65,\n",
       " 65,\n",
       " 65,\n",
       " 5,\n",
       " 65,\n",
       " 65,\n",
       " 35,\n",
       " 65,\n",
       " 95,\n",
       " 15,\n",
       " 55,\n",
       " 65,\n",
       " 15,\n",
       " 15,\n",
       " 15,\n",
       " 65,\n",
       " 95,\n",
       " 65,\n",
       " 65,\n",
       " 15,\n",
       " 95,\n",
       " 95,\n",
       " 35,\n",
       " 15,\n",
       " 55,\n",
       " 15,\n",
       " 95,\n",
       " 5,\n",
       " 35,\n",
       " 65,\n",
       " 65,\n",
       " 65,\n",
       " 65,\n",
       " 35,\n",
       " 95,\n",
       " 5,\n",
       " 95,\n",
       " 65,\n",
       " 65,\n",
       " 15,\n",
       " 15,\n",
       " 15,\n",
       " 65,\n",
       " 65,\n",
       " 95,\n",
       " 65,\n",
       " 5,\n",
       " 35,\n",
       " 15,\n",
       " 95,\n",
       " 35,\n",
       " 95,\n",
       " 35,\n",
       " 65,\n",
       " 95,\n",
       " 55,\n",
       " 15,\n",
       " 65,\n",
       " 15,\n",
       " 95,\n",
       " 65,\n",
       " 55,\n",
       " 65,\n",
       " 65,\n",
       " 35,\n",
       " 15,\n",
       " 5,\n",
       " 65,\n",
       " 35,\n",
       " 65,\n",
       " 65,\n",
       " 65,\n",
       " 5,\n",
       " 15,\n",
       " 95,\n",
       " 15,\n",
       " 5,\n",
       " 65,\n",
       " 65,\n",
       " 65,\n",
       " 35,\n",
       " 95,\n",
       " 35,\n",
       " 55,\n",
       " 15,\n",
       " 15,\n",
       " 65,\n",
       " 65,\n",
       " 35,\n",
       " 95,\n",
       " 65,\n",
       " 5,\n",
       " 15,\n",
       " 15,\n",
       " 55,\n",
       " 5,\n",
       " 65,\n",
       " 15,\n",
       " 35,\n",
       " 95,\n",
       " 5,\n",
       " 35,\n",
       " 5,\n",
       " 65,\n",
       " 15,\n",
       " 35,\n",
       " 65,\n",
       " 65,\n",
       " 5,\n",
       " 65,\n",
       " 15,\n",
       " 65,\n",
       " 65,\n",
       " 65,\n",
       " 35,\n",
       " 65,\n",
       " 35,\n",
       " 95,\n",
       " 95,\n",
       " 35,\n",
       " 5,\n",
       " 35,\n",
       " 65,\n",
       " 35,\n",
       " 15,\n",
       " 5,\n",
       " 65,\n",
       " 55,\n",
       " 65,\n",
       " 65,\n",
       " 15,\n",
       " 35,\n",
       " 15,\n",
       " 15,\n",
       " 95,\n",
       " 15,\n",
       " 55,\n",
       " 95,\n",
       " 65,\n",
       " 95,\n",
       " 55,\n",
       " 55,\n",
       " 65,\n",
       " 55,\n",
       " 35,\n",
       " 15,\n",
       " 35,\n",
       " 55,\n",
       " 65,\n",
       " 65,\n",
       " 35,\n",
       " 95,\n",
       " 5,\n",
       " 65,\n",
       " 35,\n",
       " 65,\n",
       " 15,\n",
       " 65,\n",
       " 95,\n",
       " 55,\n",
       " 55,\n",
       " 35,\n",
       " 15,\n",
       " 65,\n",
       " 15,\n",
       " 15,\n",
       " 5,\n",
       " 65,\n",
       " 65,\n",
       " 15,\n",
       " 35,\n",
       " 65,\n",
       " 5,\n",
       " 5,\n",
       " 15,\n",
       " 15,\n",
       " 65,\n",
       " 15,\n",
       " 35,\n",
       " 5,\n",
       " 15,\n",
       " 35,\n",
       " 5,\n",
       " 65,\n",
       " 65,\n",
       " 65,\n",
       " 15,\n",
       " 55,\n",
       " 65,\n",
       " 65,\n",
       " 65,\n",
       " 15,\n",
       " 95,\n",
       " 35,\n",
       " 65,\n",
       " 65,\n",
       " 15,\n",
       " 55,\n",
       " 5,\n",
       " 65,\n",
       " 65,\n",
       " 55,\n",
       " 35,\n",
       " 5,\n",
       " 55,\n",
       " 95,\n",
       " 95,\n",
       " 35,\n",
       " 65,\n",
       " 65,\n",
       " 15,\n",
       " 65,\n",
       " 35,\n",
       " 95,\n",
       " 5,\n",
       " 5,\n",
       " 5,\n",
       " 65,\n",
       " 35,\n",
       " 35,\n",
       " 65,\n",
       " 65,\n",
       " 15,\n",
       " 95,\n",
       " 95,\n",
       " 15,\n",
       " 65,\n",
       " 5,\n",
       " 65,\n",
       " 65,\n",
       " 55,\n",
       " 95,\n",
       " 95,\n",
       " 15,\n",
       " 55,\n",
       " ...]"
      ]
     },
     "execution_count": 73,
     "metadata": {},
     "output_type": "execute_result"
    }
   ],
   "source": [
    "FLIR_actions = list(FLIR_actions)\n",
    "type(FLIR_actions)\n",
    "FLIR_actions"
   ]
  },
  {
   "cell_type": "code",
   "execution_count": 9,
   "metadata": {},
   "outputs": [
    {
     "name": "stdout",
     "output_type": "stream",
     "text": [
      "ImageNet avg 43.3\n",
      "FLIR avg 33.635714285714286\n"
     ]
    }
   ],
   "source": [
    "print(\"ImageNet avg\",np.mean(imagenet_actions))\n",
    "print(\"FLIR avg\",np.mean(FLIR_actions))"
   ]
  },
  {
   "cell_type": "code",
   "execution_count": 75,
   "metadata": {},
   "outputs": [
    {
     "name": "stdout",
     "output_type": "stream",
     "text": [
      "ImageNet avg 43.3\n",
      "FLIR avg 47.542857142857144\n"
     ]
    }
   ],
   "source": [
    "print(\"ImageNet avg\",np.mean(imagenet_actions))\n",
    "print(\"FLIR avg\",np.mean(FLIR_actions))"
   ]
  },
  {
   "cell_type": "code",
   "execution_count": 15,
   "metadata": {},
   "outputs": [
    {
     "name": "stdout",
     "output_type": "stream",
     "text": [
      "ImageNet std 19.52569735356095\n",
      "FLIR std 16.80761337450796\n"
     ]
    }
   ],
   "source": [
    "print(\"ImageNet std\",np.std(imagenet_actions))\n",
    "print(\"FLIR std\",np.std(FLIR_actions))"
   ]
  },
  {
   "cell_type": "code",
   "execution_count": 76,
   "metadata": {},
   "outputs": [
    {
     "name": "stdout",
     "output_type": "stream",
     "text": [
      "ImageNet std 19.52569735356095\n",
      "FLIR std 26.56457668952919\n"
     ]
    }
   ],
   "source": [
    "print(\"ImageNet std\",np.std(imagenet_actions))\n",
    "print(\"FLIR std\",np.std(FLIR_actions))"
   ]
  },
  {
   "cell_type": "code",
   "execution_count": 61,
   "metadata": {},
   "outputs": [
    {
     "data": {
      "image/png": "[encoded data removed]",
      "text/plain": [
       "<Figure size 432x288 with 1 Axes>"
      ]
     },
     "metadata": {
      "needs_background": "light"
     },
     "output_type": "display_data"
    }
   ],
   "source": [
    "imagenet_hist = plt.hist(imagenet_actions, bins=10)\n",
    "FLIR_hist = plt.hist(FLIR_actions, bins=10)"
   ]
  },
  {
   "cell_type": "code",
   "execution_count": 11,
   "metadata": {},
   "outputs": [
    {
     "data": {
      "image/png": "[encoded data removed]",
      "text/plain": [
       "<Figure size 432x288 with 1 Axes>"
      ]
     },
     "metadata": {
      "needs_background": "light"
     },
     "output_type": "display_data"
    }
   ],
   "source": [
    "imagenet_hist = plt.hist(imagenet_actions, bins=10)"
   ]
  },
  {
   "cell_type": "code",
   "execution_count": 37,
   "metadata": {},
   "outputs": [
    {
     "data": {
      "image/png": "[encoded data removed]",
      "text/plain": [
       "<Figure size 432x288 with 1 Axes>"
      ]
     },
     "metadata": {
      "needs_background": "light"
     },
     "output_type": "display_data"
    }
   ],
   "source": [
    "FLIR_hist = plt.hist(FLIR_actions, bins=10)"
   ]
  },
  {
   "cell_type": "code",
   "execution_count": 25,
   "metadata": {},
   "outputs": [
    {
     "data": {
      "image/png": "[encoded data removed]",
      "text/plain": [
       "<Figure size 432x288 with 1 Axes>"
      ]
     },
     "metadata": {
      "needs_background": "light"
     },
     "output_type": "display_data"
    }
   ],
   "source": [
    "FLIR_hist = plt.hist(FLIR_actions, bins=10)"
   ]
  },
  {
   "cell_type": "code",
   "execution_count": 25,
   "metadata": {},
   "outputs": [
    {
     "data": {
      "image/png": "[encoded data removed]",
      "text/plain": [
       "<Figure size 432x288 with 1 Axes>"
      ]
     },
     "metadata": {
      "needs_background": "light"
     },
     "output_type": "display_data"
    }
   ],
   "source": [
    "FLIR_hist = plt.hist(running_log['action'][:1400], bins=10)"
   ]
  },
  {
   "cell_type": "code",
   "execution_count": 20,
   "metadata": {},
   "outputs": [
    {
     "name": "stdout",
     "output_type": "stream",
     "text": [
      "Fitted norm distribution with error=0.18126244497499663)\n",
      "{'norm': (43.3, 19.52569735356095)}\n"
     ]
    },
    {
     "data": {
      "text/html": [
       "<div>\n",
       "<style scoped>\n",
       "    .dataframe tbody tr th:only-of-type {\n",
       "        vertical-align: middle;\n",
       "    }\n",
       "\n",
       "    .dataframe tbody tr th {\n",
       "        vertical-align: top;\n",
       "    }\n",
       "\n",
       "    .dataframe thead th {\n",
       "        text-align: right;\n",
       "    }\n",
       "</style>\n",
       "<table border=\"1\" class=\"dataframe\">\n",
       "  <thead>\n",
       "    <tr style=\"text-align: right;\">\n",
       "      <th></th>\n",
       "      <th>sumsquare_error</th>\n",
       "      <th>aic</th>\n",
       "      <th>bic</th>\n",
       "      <th>kl_div</th>\n",
       "    </tr>\n",
       "  </thead>\n",
       "  <tbody>\n",
       "    <tr>\n",
       "      <th>norm</th>\n",
       "      <td>0.181262</td>\n",
       "      <td>970.938476</td>\n",
       "      <td>-12518.363123</td>\n",
       "      <td>inf</td>\n",
       "    </tr>\n",
       "  </tbody>\n",
       "</table>\n",
       "</div>"
      ],
      "text/plain": [
       "      sumsquare_error         aic           bic  kl_div\n",
       "norm         0.181262  970.938476 -12518.363123     inf"
      ]
     },
     "execution_count": 20,
     "metadata": {},
     "output_type": "execute_result"
    },
    {
     "data": {
      "image/png": "[encoded data removed]",
      "text/plain": [
       "<Figure size 432x288 with 1 Axes>"
      ]
     },
     "metadata": {
      "needs_background": "light"
     },
     "output_type": "display_data"
    }
   ],
   "source": [
    "# may take some time since by default, all distributions are tried\n",
    "# but you call manually provide a smaller set of distributions\n",
    "f = Fitter(imagenet_actions, distributions=['norm'])\n",
    "f.fit()\n",
    "print(f.fitted_param)\n",
    "f.summary()\n",
    "\n"
   ]
  },
  {
   "cell_type": "code",
   "execution_count": 50,
   "metadata": {},
   "outputs": [
    {
     "data": {
      "text/plain": [
       "0"
      ]
     },
     "execution_count": 50,
     "metadata": {},
     "output_type": "execute_result"
    }
   ],
   "source": [
    "running_log['action'][:1400].count(95)"
   ]
  },
  {
   "cell_type": "code",
   "execution_count": 49,
   "metadata": {},
   "outputs": [
    {
     "data": {
      "text/plain": [
       "1"
      ]
     },
     "execution_count": 49,
     "metadata": {},
     "output_type": "execute_result"
    }
   ],
   "source": [
    "running_log['action'][3600:5000].count(95)"
   ]
  },
  {
   "cell_type": "code",
   "execution_count": 28,
   "metadata": {},
   "outputs": [
    {
     "data": {
      "image/png": "[encoded data removed]",
      "text/plain": [
       "<Figure size 432x288 with 1 Axes>"
      ]
     },
     "metadata": {
      "needs_background": "light"
     },
     "output_type": "display_data"
    }
   ],
   "source": [
    "plt.bar([i - 1.5 for i in np.arange(5, 105, 10)], np.array(imagenet_hist[0]) / 1000, width=3, label='ImageNet images', color='lightsteelblue')\n",
    "# plt.bar([i + 1.5 for i in np.arange(5, 105, 10)], np.array(DNIM_hist[0]) / 1000, width=3, label='FLIR images', color='darksalmon')\n",
    "plt.xticks([i for i in np.arange(5, 105, 10)])\n",
    "plt.xlabel(\"Compression level (Q for JPEG)\")\n",
    "plt.ylabel(r\"Counts ($\\times10^3$)\")\n",
    "plt.legend()\n",
    "\n",
    "plt.subplots_adjust(top=0.75,\n",
    "                    bottom=0.235,\n",
    "                    left=0.115,\n",
    "                    right=0.995,\n",
    "                    hspace=0.2,\n",
    "                    wspace=0.2)\n",
    "# plt.subplots_adjust(top=0.75,\n",
    "#                     bottom=0.23,\n",
    "#                     left=0.105,\n",
    "#                     right=0.91,\n",
    "#                     hspace=0.2,\n",
    "#                     wspace=0.2)\n",
    "# plt.tight_layout()\n",
    "# plt.subplots_adjust(left=0.2, bottom=0.2, right=0.8, top=0.8, hspace=0.2, wspace=0.3)"
   ]
  },
  {
   "cell_type": "code",
   "execution_count": 41,
   "metadata": {},
   "outputs": [
    {
     "data": {
      "image/png": "[encoded data removed]",
      "text/plain": [
       "<Figure size 432x288 with 1 Axes>"
      ]
     },
     "metadata": {
      "needs_background": "light"
     },
     "output_type": "display_data"
    }
   ],
   "source": [
    "#plt.bar([i - 1.5 for i in np.arange(5, 105, 10)], np.array(imagenet_hist[0]) / 1000, width=3, label='ImageNet images', color='lightsteelblue')\n",
    "#plt.bar([i + 1.5 for i in np.arange(5, 105, 10)], np.array(FLIR_hist[0]) / 1000, width=3, label='FLIR images', color='darksalmon')\n",
    "plt.bar([i for i in np.arange(5, 105, 10)], np.array(FLIR_hist[0]) / 1000, width=3, label='FLIR images', color='darksalmon')\n",
    "plt.xticks([i for i in np.arange(5, 105, 10)])\n",
    "plt.xlabel(\"Compression level (Q for JPEG)\")\n",
    "plt.ylabel(r\"Counts ($\\times10^3$)\")\n",
    "plt.legend()\n",
    "plt.subplots_adjust(top=0.75,\n",
    "                    bottom=0.235,\n",
    "                    left=0.115,\n",
    "                    right=0.995,\n",
    "                    hspace=0.2,\n",
    "                    wspace=0.2)\n",
    "plt.savefig(\"figure_result/FLIR_Baidu_choices.pdf\",bbox_inches = 'tight')\n",
    "# plt.subplots_adjust(top=0.75,\n",
    "#                     bottom=0.23,\n",
    "#                     left=0.105,\n",
    "#                     right=0.91,\n",
    "#                     hspace=0.2,\n",
    "#                     wspace=0.2)\n",
    "# plt.tight_layout()\n",
    "# plt.subplots_adjust(left=0.2, bottom=0.2, right=0.8, top=0.8, hspace=0.2, wspace=0.3)"
   ]
  },
  {
   "cell_type": "code",
   "execution_count": 67,
   "metadata": {},
   "outputs": [
    {
     "data": {
      "image/png": "[encoded data removed]",
      "text/plain": [
       "<Figure size 432x288 with 1 Axes>"
      ]
     },
     "metadata": {
      "needs_background": "light"
     },
     "output_type": "display_data"
    }
   ],
   "source": [
    "plt.bar([i for i in np.arange(5, 105, 10)], np.array(imagenet_hist[0]) / 1000, width=4, label='ImageNet images', color='lightsteelblue')\n",
    "#plt.bar([i + 1.5 for i in np.arange(5, 105, 10)], np.array(FLIR_hist[0]) / 1000, width=3, label='FLIR images', color='darksalmon')\n",
    "#plt.bar([i for i in np.arange(5, 105, 10)], np.array(FLIR_hist[0]) / 1000, width=4, label='FLIR images', color='darksalmon')\n",
    "plt.xticks([i for i in np.arange(5, 105, 10)])\n",
    "plt.yticks([i for i in np.arange(0.1, 0.6, 0.1)])\n",
    "plt.xlabel(\"Compression level (Q for JPEG)\")\n",
    "plt.ylabel(r\"Counts ($\\times10^3$)\")\n",
    "plt.grid()\n",
    "plt.legend()\n",
    "\n",
    "# plt.subplots_adjust(top=0.75,\n",
    "#                     bottom=0.235,\n",
    "#                     left=0.115,\n",
    "#                     right=0.995,\n",
    "#                     hspace=0.2,\n",
    "#                     wspace=0.2)\n",
    "plt.subplots_adjust(left=0.2, bottom=0.2, right=0.8, top=0.8, hspace=0.2, wspace=0.3)\n",
    "plt.savefig(\"figure_result/ImageNet_Baidu_choices.pdf\",bbox_inches = 'tight')\n",
    "# plt.tight_layout()"
   ]
  },
  {
   "cell_type": "code",
   "execution_count": 68,
   "metadata": {},
   "outputs": [
    {
     "data": {
      "image/png": "[encoded data removed]",
      "text/plain": [
       "<Figure size 432x288 with 1 Axes>"
      ]
     },
     "metadata": {
      "needs_background": "light"
     },
     "output_type": "display_data"
    }
   ],
   "source": [
    "#plt.bar([i - 1.5 for i in np.arange(5, 105, 10)], np.array(imagenet_hist[0]) / 1000, width=3, label='ImageNet images', color='lightsteelblue')\n",
    "#plt.bar([i + 1.5 for i in np.arange(5, 105, 10)], np.array(FLIR_hist[0]) / 1000, width=3, label='FLIR images', color='darksalmon')\n",
    "plt.bar([i for i in np.arange(5, 105, 10)], np.array(FLIR_hist[0]) / 1000, width=4, label='FLIR images', color='darksalmon')\n",
    "plt.xticks([i for i in np.arange(5, 105, 10)])\n",
    "plt.yticks([i for i in np.arange(0.1, 0.6, 0.1)])\n",
    "plt.xlabel(\"Compression level (Q for JPEG)\")\n",
    "plt.ylabel(r\"Counts ($\\times10^3$)\")\n",
    "plt.grid()\n",
    "plt.legend()\n",
    "\n",
    "# plt.subplots_adjust(top=0.75,\n",
    "#                     bottom=0.235,\n",
    "#                     left=0.115,\n",
    "#                     right=0.995,\n",
    "#                     hspace=0.2,\n",
    "#                     wspace=0.2)\n",
    "plt.subplots_adjust(left=0.2, bottom=0.2, right=0.8, top=0.8, hspace=0.2, wspace=0.3)\n",
    "plt.savefig(\"figure_result/FLIR_Baidu_choices.pdf\",bbox_inches = 'tight')\n",
    "# plt.tight_layout()"
   ]
  },
  {
   "cell_type": "code",
   "execution_count": 14,
   "metadata": {},
   "outputs": [
    {
     "data": {
      "image/png": "[encoded data removed]",
      "text/plain": [
       "<Figure size 432x288 with 1 Axes>"
      ]
     },
     "metadata": {
      "needs_background": "light"
     },
     "output_type": "display_data"
    }
   ],
   "source": [
    "plt.bar([i - 1.5 for i in np.arange(5, 105, 10)], np.array(imagenet_hist[0]) / 1000, width=3, label='ImageNet images', color='lightsteelblue')\n",
    "plt.bar([i + 1.5 for i in np.arange(5, 105, 10)], np.array(DNIM_hist[0]) / 1000, width=3, label='FLIR images', color='darksalmon')\n",
    "plt.xticks([i for i in np.arange(5, 105, 10)])\n",
    "plt.xlabel(\"Compression level (Q for JPEG)\")\n",
    "plt.ylabel(r\"Counts ($\\times10^3$)\")\n",
    "plt.legend()\n",
    "\n",
    "plt.subplots_adjust(top=0.75,\n",
    "                    bottom=0.235,\n",
    "                    left=0.115,\n",
    "                    right=0.995,\n",
    "                    hspace=0.2,\n",
    "                    wspace=0.2)\n",
    "# plt.subplots_adjust(top=0.75,\n",
    "#                     bottom=0.23,\n",
    "#                     left=0.105,\n",
    "#                     right=0.91,\n",
    "#                     hspace=0.2,\n",
    "#                     wspace=0.2)\n",
    "# plt.tight_layout()\n",
    "# plt.subplots_adjust(left=0.2, bottom=0.2, right=0.8, top=0.8, hspace=0.2, wspace=0.3)"
   ]
  },
  {
   "cell_type": "code",
   "execution_count": null,
   "metadata": {},
   "outputs": [],
   "source": []
  }
 ],
 "metadata": {
  "kernelspec": {
   "display_name": "deep",
   "language": "python",
   "name": "deep"
  },
  "language_info": {
   "codemirror_mode": {
    "name": "ipython",
    "version": 3
   },
   "file_extension": ".py",
   "mimetype": "text/x-python",
   "name": "python",
   "nbconvert_exporter": "python",
   "pygments_lexer": "ipython3",
   "version": "3.6.9"
  }
 },
 "nbformat": 4,
 "nbformat_minor": 2
}
